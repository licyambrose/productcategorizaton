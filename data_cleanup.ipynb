{
 "cells": [
  {
   "metadata": {},
   "cell_type": "markdown",
   "source": [
    "Below data is taken from Kaggle:\n",
    "https://www.kaggle.com/datasets/asaniczka/amazon-products-dataset-2023-1-4m-products?resource=download\n",
    "\n",
    "It contains two CSV files:\n",
    "1. amazon_products.csv\n",
    "2. amazon_categories.csv\n",
    "\n",
    "In the below steps I have done the following:\n",
    "1. Read the amazon_products.csv file and selected only the required columns.\n",
    "2. Saved the new dataframe to a new CSV file named amazon_products_filtered.csv.\n",
    "3. Read both amazon_products_filtered.csv and amazon_categories.csv files.\n",
    "4. Merged the two dataframes on category_id and id columns.\n",
    "5. Dropped the redundant id column.\n",
    "6. Saved the updated dataframe to the same amazon_products_filtered.csv file.\n",
    "7. Created a stratified sample of 5,000 records from the updated dataframe to ensure category proportions are maintained."
   ],
   "id": "e1a84990556e1612"
  },
  {
   "metadata": {
    "collapsed": true,
    "execution": {
     "iopub.execute_input": "2025-09-26T19:56:48.181039Z",
     "iopub.status.busy": "2025-09-26T19:56:48.180650Z",
     "iopub.status.idle": "2025-09-26T19:56:56.052373Z",
     "shell.execute_reply": "2025-09-26T19:56:56.052101Z"
    },
    "ExecuteTime": {
     "end_time": "2025-09-26T22:11:13.977070Z",
     "start_time": "2025-09-26T22:11:05.937259Z"
    }
   },
   "cell_type": "code",
   "source": [
    "import pandas as pd\n",
    "\n",
    "# Read the CSV file\n",
    "df = pd.read_csv('data/amazon_products.csv')\n",
    "\n",
    "# Select the desired columns\n",
    "selected_columns = ['asin', 'title', 'imgUrl', 'productURL', 'price', 'listPrice', 'category_id']\n",
    "new_df = df[selected_columns]\n",
    "\n",
    "# Save the new dataframe to a new CSV file\n",
    "new_df.to_csv('data/amazon_products_filtered.csv', index=False)\n",
    "\n",
    "print(\"Filtered CSV file created successfully.\")\n"
   ],
   "id": "initial_id",
   "outputs": [
    {
     "name": "stdout",
     "output_type": "stream",
     "text": [
      "Filtered CSV file created successfully.\n"
     ]
    }
   ],
   "execution_count": 24
  },
  {
   "cell_type": "code",
   "id": "c75058a2981a5ac0",
   "metadata": {
    "execution": {
     "iopub.execute_input": "2025-09-26T19:56:56.053744Z",
     "iopub.status.busy": "2025-09-26T19:56:56.053652Z",
     "iopub.status.idle": "2025-09-26T19:57:04.217650Z",
     "shell.execute_reply": "2025-09-26T19:57:04.217374Z"
    },
    "ExecuteTime": {
     "end_time": "2025-09-26T22:11:22.605788Z",
     "start_time": "2025-09-26T22:11:13.999083Z"
    }
   },
   "source": [
    "# Read both CSV files\n",
    "products_df = pd.read_csv('data/amazon_products_filtered.csv')\n",
    "categories_df = pd.read_csv('data/amazon_categories.csv')\n",
    "\n",
    "# Merge the two dataframes\n",
    "merged_df = pd.merge(products_df, categories_df, left_on='category_id', right_on='id')\n",
    "\n",
    "# Drop the redundant 'id' column\n",
    "merged_df = merged_df.drop(columns=['id'])\n",
    "\n",
    "# Save the updated dataframe\n",
    "merged_df.to_csv('data/amazon_products_filtered.csv', index=False)\n",
    "\n",
    "print(\"Successfully added category_name column.\")\n",
    "\n",
    "merged_df.head()"
   ],
   "outputs": [
    {
     "name": "stdout",
     "output_type": "stream",
     "text": [
      "Successfully added category_name column.\n"
     ]
    },
    {
     "data": {
      "text/plain": [
       "         asin                                              title  \\\n",
       "0  B014TMV5YE  Sion Softside Expandable Roller Luggage, Black...   \n",
       "1  B07GDLCQXV  Luggage Sets Expandable PC+ABS Durable Suitcas...   \n",
       "2  B07XSCCZYG  Platinum Elite Softside Expandable Checked Lug...   \n",
       "3  B08MVFKGJM  Freeform Hardside Expandable with Double Spinn...   \n",
       "4  B01DJLKZBA  Winfield 2 Hardside Expandable Luggage with Sp...   \n",
       "\n",
       "                                              imgUrl  \\\n",
       "0  https://m.media-amazon.com/images/I/815dLQKYIY...   \n",
       "1  https://m.media-amazon.com/images/I/81bQlm7vf6...   \n",
       "2  https://m.media-amazon.com/images/I/71EA35zvJB...   \n",
       "3  https://m.media-amazon.com/images/I/91k6NYLQyI...   \n",
       "4  https://m.media-amazon.com/images/I/61NJoaZcP9...   \n",
       "\n",
       "                             productURL   price  listPrice  category_id  \\\n",
       "0  https://www.amazon.com/dp/B014TMV5YE  139.99       0.00          104   \n",
       "1  https://www.amazon.com/dp/B07GDLCQXV  169.99     209.99          104   \n",
       "2  https://www.amazon.com/dp/B07XSCCZYG  365.49     429.99          104   \n",
       "3  https://www.amazon.com/dp/B08MVFKGJM  291.59     354.37          104   \n",
       "4  https://www.amazon.com/dp/B01DJLKZBA  174.99     309.99          104   \n",
       "\n",
       "  category_name  \n",
       "0     Suitcases  \n",
       "1     Suitcases  \n",
       "2     Suitcases  \n",
       "3     Suitcases  \n",
       "4     Suitcases  "
      ],
      "text/html": [
       "<div>\n",
       "<style scoped>\n",
       "    .dataframe tbody tr th:only-of-type {\n",
       "        vertical-align: middle;\n",
       "    }\n",
       "\n",
       "    .dataframe tbody tr th {\n",
       "        vertical-align: top;\n",
       "    }\n",
       "\n",
       "    .dataframe thead th {\n",
       "        text-align: right;\n",
       "    }\n",
       "</style>\n",
       "<table border=\"1\" class=\"dataframe\">\n",
       "  <thead>\n",
       "    <tr style=\"text-align: right;\">\n",
       "      <th></th>\n",
       "      <th>asin</th>\n",
       "      <th>title</th>\n",
       "      <th>imgUrl</th>\n",
       "      <th>productURL</th>\n",
       "      <th>price</th>\n",
       "      <th>listPrice</th>\n",
       "      <th>category_id</th>\n",
       "      <th>category_name</th>\n",
       "    </tr>\n",
       "  </thead>\n",
       "  <tbody>\n",
       "    <tr>\n",
       "      <th>0</th>\n",
       "      <td>B014TMV5YE</td>\n",
       "      <td>Sion Softside Expandable Roller Luggage, Black...</td>\n",
       "      <td>https://m.media-amazon.com/images/I/815dLQKYIY...</td>\n",
       "      <td>https://www.amazon.com/dp/B014TMV5YE</td>\n",
       "      <td>139.99</td>\n",
       "      <td>0.00</td>\n",
       "      <td>104</td>\n",
       "      <td>Suitcases</td>\n",
       "    </tr>\n",
       "    <tr>\n",
       "      <th>1</th>\n",
       "      <td>B07GDLCQXV</td>\n",
       "      <td>Luggage Sets Expandable PC+ABS Durable Suitcas...</td>\n",
       "      <td>https://m.media-amazon.com/images/I/81bQlm7vf6...</td>\n",
       "      <td>https://www.amazon.com/dp/B07GDLCQXV</td>\n",
       "      <td>169.99</td>\n",
       "      <td>209.99</td>\n",
       "      <td>104</td>\n",
       "      <td>Suitcases</td>\n",
       "    </tr>\n",
       "    <tr>\n",
       "      <th>2</th>\n",
       "      <td>B07XSCCZYG</td>\n",
       "      <td>Platinum Elite Softside Expandable Checked Lug...</td>\n",
       "      <td>https://m.media-amazon.com/images/I/71EA35zvJB...</td>\n",
       "      <td>https://www.amazon.com/dp/B07XSCCZYG</td>\n",
       "      <td>365.49</td>\n",
       "      <td>429.99</td>\n",
       "      <td>104</td>\n",
       "      <td>Suitcases</td>\n",
       "    </tr>\n",
       "    <tr>\n",
       "      <th>3</th>\n",
       "      <td>B08MVFKGJM</td>\n",
       "      <td>Freeform Hardside Expandable with Double Spinn...</td>\n",
       "      <td>https://m.media-amazon.com/images/I/91k6NYLQyI...</td>\n",
       "      <td>https://www.amazon.com/dp/B08MVFKGJM</td>\n",
       "      <td>291.59</td>\n",
       "      <td>354.37</td>\n",
       "      <td>104</td>\n",
       "      <td>Suitcases</td>\n",
       "    </tr>\n",
       "    <tr>\n",
       "      <th>4</th>\n",
       "      <td>B01DJLKZBA</td>\n",
       "      <td>Winfield 2 Hardside Expandable Luggage with Sp...</td>\n",
       "      <td>https://m.media-amazon.com/images/I/61NJoaZcP9...</td>\n",
       "      <td>https://www.amazon.com/dp/B01DJLKZBA</td>\n",
       "      <td>174.99</td>\n",
       "      <td>309.99</td>\n",
       "      <td>104</td>\n",
       "      <td>Suitcases</td>\n",
       "    </tr>\n",
       "  </tbody>\n",
       "</table>\n",
       "</div>"
      ]
     },
     "execution_count": 25,
     "metadata": {},
     "output_type": "execute_result"
    }
   ],
   "execution_count": 25
  },
  {
   "metadata": {
    "ExecuteTime": {
     "end_time": "2025-09-26T22:11:26.735851Z",
     "start_time": "2025-09-26T22:11:22.636636Z"
    }
   },
   "cell_type": "code",
   "source": [
    "\n",
    "# Load the dataset\n",
    "df = pd.read_csv('data/amazon_products_filtered.csv')\n",
    "df.dropna(subset=['category_name'], inplace=True)\n",
    "\n",
    "print(f\"Total number of categories in original data: {df['category_name'].nunique()}\")\n",
    "\n",
    "# 1. Sample one product from each category\n",
    "one_per_category = df.groupby('category_name').sample(n=1, random_state=42)\n",
    "\n",
    "# 2. Get the remaining data\n",
    "remaining_data = df.drop(one_per_category.index)\n",
    "\n",
    "# 3. Calculate how many more samples are needed and get them\n",
    "n_additional_samples = 5000 - len(one_per_category)\n",
    "additional_samples = remaining_data.sample(n=n_additional_samples, random_state=42)\n",
    "\n",
    "# 4. Combine the two dataframes\n",
    "final_sample = pd.concat([one_per_category, additional_samples])\n",
    "\n",
    "# 5. Shuffle the final sample\n",
    "final_sample = final_sample.sample(frac=1, random_state=42).reset_index(drop=True)\n",
    "\n",
    "# Save the new sample\n",
    "final_sample.to_csv('data/amazon_products_sampled_5k.csv', index=False)\n",
    "\n",
    "print(f\"Created a new sample with {len(final_sample)} records.\")\n",
    "print(f\"Number of unique categories in the new sample: {final_sample['category_name'].nunique()}\")"
   ],
   "id": "9ce5c06631c2e72e",
   "outputs": [
    {
     "name": "stdout",
     "output_type": "stream",
     "text": [
      "Total number of categories in original data: 248\n",
      "Created a new sample with 5000 records.\n",
      "Number of unique categories in the new sample: 248\n"
     ]
    }
   ],
   "execution_count": 26
  }
 ],
 "metadata": {
  "kernelspec": {
   "display_name": "Python 3",
   "language": "python",
   "name": "python3"
  },
  "language_info": {
   "codemirror_mode": {
    "name": "ipython",
    "version": 3
   },
   "file_extension": ".py",
   "mimetype": "text/x-python",
   "name": "python",
   "nbconvert_exporter": "python",
   "pygments_lexer": "ipython3",
   "version": "3.12.7"
  }
 },
 "nbformat": 4,
 "nbformat_minor": 5
}
