{
 "cells": [
  {
   "cell_type": "code",
   "execution_count": 1,
   "id": "initial_id",
   "metadata": {
    "collapsed": true,
    "execution": {
     "iopub.execute_input": "2025-09-26T19:56:48.181039Z",
     "iopub.status.busy": "2025-09-26T19:56:48.180650Z",
     "iopub.status.idle": "2025-09-26T19:56:56.052373Z",
     "shell.execute_reply": "2025-09-26T19:56:56.052101Z"
    }
   },
   "outputs": [
    {
     "name": "stdout",
     "output_type": "stream",
     "text": [
      "Filtered CSV file created successfully.\n"
     ]
    }
   ],
   "source": [
    "import pandas as pd\n",
    "\n",
    "# Read the CSV file\n",
    "df = pd.read_csv('data/amazon_products.csv')\n",
    "\n",
    "# Select the desired columns\n",
    "selected_columns = ['asin', 'title', 'imgUrl', 'productURL', 'price', 'listPrice', 'category_id']\n",
    "new_df = df[selected_columns]\n",
    "\n",
    "# Save the new dataframe to a new CSV file\n",
    "new_df.to_csv('data/amazon_products_filtered.csv', index=False)\n",
    "\n",
    "print(\"Filtered CSV file created successfully.\")\n"
   ]
  },
  {
   "cell_type": "code",
   "execution_count": 2,
   "id": "c75058a2981a5ac0",
   "metadata": {
    "execution": {
     "iopub.execute_input": "2025-09-26T19:56:56.053744Z",
     "iopub.status.busy": "2025-09-26T19:56:56.053652Z",
     "iopub.status.idle": "2025-09-26T19:57:04.217650Z",
     "shell.execute_reply": "2025-09-26T19:57:04.217374Z"
    }
   },
   "outputs": [
    {
     "name": "stdout",
     "output_type": "stream",
     "text": [
      "Successfully added category_name column.\n"
     ]
    }
   ],
   "source": [
    "# Read both CSV files\n",
    "products_df = pd.read_csv('data/amazon_products_filtered.csv')\n",
    "categories_df = pd.read_csv('data/amazon_categories.csv')\n",
    "\n",
    "# Merge the two dataframes\n",
    "merged_df = pd.merge(products_df, categories_df, left_on='category_id', right_on='id')\n",
    "\n",
    "# Drop the redundant 'id' column\n",
    "merged_df = merged_df.drop(columns=['id'])\n",
    "\n",
    "# Save the updated dataframe\n",
    "merged_df.to_csv('data/amazon_products_filtered.csv', index=False)\n",
    "\n",
    "print(\"Successfully added category_name column.\")\n"
   ]
  }
 ],
 "metadata": {
  "kernelspec": {
   "display_name": "Python 3",
   "language": "python",
   "name": "python3"
  },
  "language_info": {
   "codemirror_mode": {
    "name": "ipython",
    "version": 3
   },
   "file_extension": ".py",
   "mimetype": "text/x-python",
   "name": "python",
   "nbconvert_exporter": "python",
   "pygments_lexer": "ipython3",
   "version": "3.12.7"
  }
 },
 "nbformat": 4,
 "nbformat_minor": 5
}
